{
 "cells": [
  {
   "cell_type": "code",
   "execution_count": 1,
   "id": "324e3085",
   "metadata": {},
   "outputs": [
    {
     "name": "stdout",
     "output_type": "stream",
     "text": [
      "bacdfeg\n"
     ]
    }
   ],
   "source": [
    "def reverseStr(s, k):\n",
    "    result = \"\"\n",
    "    n = len(s)\n",
    "    i = 0\n",
    "    \n",
    "    while i < n:\n",
    "        # Reverse the first k characters if there are at least k characters remaining\n",
    "        if i + k <= n:\n",
    "            result += s[i:i+k][::-1]\n",
    "        # Reverse all remaining characters\n",
    "        else:\n",
    "            result += s[i:][::-1]\n",
    "        \n",
    "        # Append the next k characters as they are (leave them unchanged)\n",
    "        result += s[i+k:i+2*k]\n",
    "        \n",
    "        i += 2 * k\n",
    "    \n",
    "    return result\n",
    "s = \"abcdefg\"\n",
    "k = 2\n",
    "print(reverseStr(s, k))\n"
   ]
  },
  {
   "cell_type": "code",
   "execution_count": null,
   "id": "286e1f96",
   "metadata": {},
   "outputs": [],
   "source": []
  }
 ],
 "metadata": {
  "kernelspec": {
   "display_name": "Python 3 (ipykernel)",
   "language": "python",
   "name": "python3"
  },
  "language_info": {
   "codemirror_mode": {
    "name": "ipython",
    "version": 3
   },
   "file_extension": ".py",
   "mimetype": "text/x-python",
   "name": "python",
   "nbconvert_exporter": "python",
   "pygments_lexer": "ipython3",
   "version": "3.10.9"
  }
 },
 "nbformat": 4,
 "nbformat_minor": 5
}
