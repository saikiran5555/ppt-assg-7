{
 "cells": [
  {
   "cell_type": "code",
   "execution_count": 1,
   "id": "9da540f3",
   "metadata": {},
   "outputs": [
    {
     "name": "stdout",
     "output_type": "stream",
     "text": [
      "True\n"
     ]
    }
   ],
   "source": [
    "def isIsomorphic(s, t):\n",
    "    if len(s) != len(t):\n",
    "        return False\n",
    "\n",
    "    s_to_t = {}\n",
    "    t_to_s = {}\n",
    "\n",
    "    for s_char, t_char in zip(s, t):\n",
    "        if s_char not in s_to_t and t_char not in t_to_s:\n",
    "            s_to_t[s_char] = t_char\n",
    "            t_to_s[t_char] = s_char\n",
    "        elif s_to_t.get(s_char) != t_char or t_to_s.get(t_char) != s_char:\n",
    "            return False\n",
    "\n",
    "    return True\n",
    "s = \"egg\"\n",
    "t = \"add\"\n",
    "\n",
    "print(isIsomorphic(s, t))\n"
   ]
  },
  {
   "cell_type": "code",
   "execution_count": null,
   "id": "8a3d0c6d",
   "metadata": {},
   "outputs": [],
   "source": []
  }
 ],
 "metadata": {
  "kernelspec": {
   "display_name": "Python 3 (ipykernel)",
   "language": "python",
   "name": "python3"
  },
  "language_info": {
   "codemirror_mode": {
    "name": "ipython",
    "version": 3
   },
   "file_extension": ".py",
   "mimetype": "text/x-python",
   "name": "python",
   "nbconvert_exporter": "python",
   "pygments_lexer": "ipython3",
   "version": "3.10.9"
  }
 },
 "nbformat": 4,
 "nbformat_minor": 5
}
